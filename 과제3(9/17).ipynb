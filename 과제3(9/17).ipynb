{
  "nbformat": 4,
  "nbformat_minor": 0,
  "metadata": {
    "colab": {
      "provenance": [],
      "authorship_tag": "ABX9TyNWh4MBziDDVn8+TKT9BVUL",
      "include_colab_link": true
    },
    "kernelspec": {
      "name": "python3",
      "display_name": "Python 3"
    },
    "language_info": {
      "name": "python"
    }
  },
  "cells": [
    {
      "cell_type": "markdown",
      "metadata": {
        "id": "view-in-github",
        "colab_type": "text"
      },
      "source": [
        "<a href=\"https://colab.research.google.com/github/leeilgyu/-/blob/main/%EA%B3%BC%EC%A0%9C3(9/17).ipynb\" target=\"_parent\"><img src=\"https://colab.research.google.com/assets/colab-badge.svg\" alt=\"Open In Colab\"/></a>"
      ]
    },
    {
      "cell_type": "code",
      "execution_count": null,
      "metadata": {
        "id": "1JZUMgdUxC2c"
      },
      "outputs": [],
      "source": [
        "aaa = int(input())\n",
        "if aaa in range(1, 31):\n",
        "  for i in range(1, aaa+1):\n",
        "    for k in range(1, i+1):\n",
        "        print(k, end=' ')\n",
        "    print()\n",
        "else:\n",
        "    print (\"너무 많아요\")"
      ]
    }
  ]
}