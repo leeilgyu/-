{
  "nbformat": 4,
  "nbformat_minor": 0,
  "metadata": {
    "colab": {
      "provenance": [],
      "authorship_tag": "ABX9TyMarb4gTy5ukgfmL5Ef7+m5",
      "include_colab_link": true
    },
    "kernelspec": {
      "name": "python3",
      "display_name": "Python 3"
    },
    "language_info": {
      "name": "python"
    }
  },
  "cells": [
    {
      "cell_type": "markdown",
      "metadata": {
        "id": "view-in-github",
        "colab_type": "text"
      },
      "source": [
        "<a href=\"https://colab.research.google.com/github/leeilgyu/-/blob/main/9_17_%EA%B3%BC%EC%A0%9C2.ipynb\" target=\"_parent\"><img src=\"https://colab.research.google.com/assets/colab-badge.svg\" alt=\"Open In Colab\"/></a>"
      ]
    },
    {
      "cell_type": "code",
      "execution_count": null,
      "metadata": {
        "id": "P-w_1MiByHy0"
      },
      "outputs": [],
      "source": [
        "aaa = input()\n",
        "if aaa.isdecimal():\n",
        "  if aaa in range(1,31):\n",
        "    for i in range(1, aaa+1):\n",
        "      for j in range(1, i+1):\n",
        "        print(j,end=' ')\n",
        "      print()\n",
        "  else:\n",
        "    print(\"너무 많습니다\")\n",
        "else:\n",
        "  print(\"정수로 입력하세요\")"
      ]
    }
  ]
}