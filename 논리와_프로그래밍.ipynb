{
  "nbformat": 4,
  "nbformat_minor": 0,
  "metadata": {
    "colab": {
      "provenance": [],
      "collapsed_sections": [],
      "authorship_tag": "ABX9TyNMa/M/n97MeAu+VbQvKc2l",
      "include_colab_link": true
    },
    "kernelspec": {
      "name": "python3",
      "display_name": "Python 3"
    },
    "language_info": {
      "name": "python"
    }
  },
  "cells": [
    {
      "cell_type": "markdown",
      "metadata": {
        "id": "view-in-github",
        "colab_type": "text"
      },
      "source": [
        "<a href=\"https://colab.research.google.com/github/leeilgyu/-/blob/main/%EB%85%BC%EB%A6%AC%EC%99%80_%ED%94%84%EB%A1%9C%EA%B7%B8%EB%9E%98%EB%B0%8D.ipynb\" target=\"_parent\"><img src=\"https://colab.research.google.com/assets/colab-badge.svg\" alt=\"Open In Colab\"/></a>"
      ]
    },
    {
      "cell_type": "code",
      "execution_count": null,
      "metadata": {
        "colab": {
          "base_uri": "https://localhost:8080/"
        },
        "id": "1JE4dCKLEfu8",
        "outputId": "4e98a238-7a2a-4de5-f66b-78e35aaa64c8"
      },
      "outputs": [
        {
          "output_type": "stream",
          "name": "stdout",
          "text": [
            "3\n"
          ]
        }
      ],
      "source": [
        "### 201902747 이일규\n",
        "a=1\n",
        "b=2\n",
        "print(a+b)\n"
      ]
    },
    {
      "cell_type": "code",
      "source": [
        "fruit_basket=['apple', 'pear', 'orange', 'grape']\n",
        "for fruit_left in fruit_basket:\n",
        "  for fruit_right in fruit_basket:\n",
        "    print(fruit_left, 'vs', fruit_right)"
      ],
      "metadata": {
        "colab": {
          "base_uri": "https://localhost:8080/"
        },
        "id": "Eh_seM2MH5an",
        "outputId": "cbe05e82-1972-416d-9f31-b0e0edaeb0d3"
      },
      "execution_count": null,
      "outputs": [
        {
          "output_type": "stream",
          "name": "stdout",
          "text": [
            "apple vs apple\n",
            "apple vs pear\n",
            "apple vs orange\n",
            "apple vs grape\n",
            "pear vs apple\n",
            "pear vs pear\n",
            "pear vs orange\n",
            "pear vs grape\n",
            "orange vs apple\n",
            "orange vs pear\n",
            "orange vs orange\n",
            "orange vs grape\n",
            "grape vs apple\n",
            "grape vs pear\n",
            "grape vs orange\n",
            "grape vs grape\n"
          ]
        }
      ]
    },
    {
      "cell_type": "code",
      "source": [
        "answer = input (\"주성치 영화를 본적이 있나? (예/아니오):\")\n",
        "if answer == '예':\n",
        "  print (\"진정한 영화를 보셨군요.\")"
      ],
      "metadata": {
        "colab": {
          "base_uri": "https://localhost:8080/"
        },
        "id": "4IAo_lcgnByK",
        "outputId": "e09dc309-eff2-4794-8ae5-3e8efb488630"
      },
      "execution_count": null,
      "outputs": [
        {
          "output_type": "stream",
          "name": "stdout",
          "text": [
            "주성치 영화를 본적이 있나? (예/아니오):예\n",
            "진정한 영화를 보셨군요.\n"
          ]
        }
      ]
    },
    {
      "cell_type": "code",
      "source": [
        "### 범위는 range를 사용하는것이 더 간단하다\n",
        "aaa = int(input())\n",
        "if aaa in range(1, 31):\n",
        "  for i in range(1, aaa+1):\n",
        "    for k in range(1, i+1):\n",
        "        print(k, end=' ')\n",
        "    print()\n",
        "else:\n",
        "    print (\"너무 많아요\")"
      ],
      "metadata": {
        "colab": {
          "base_uri": "https://localhost:8080/"
        },
        "id": "QMTcZM8WnwYa",
        "outputId": "57aa1000-5b1d-4dcd-cbb7-6ebbe075f178"
      },
      "execution_count": null,
      "outputs": [
        {
          "output_type": "stream",
          "name": "stdout",
          "text": [
            "30\n",
            "1 \n",
            "1 2 \n",
            "1 2 3 \n",
            "1 2 3 4 \n",
            "1 2 3 4 5 \n",
            "1 2 3 4 5 6 \n",
            "1 2 3 4 5 6 7 \n",
            "1 2 3 4 5 6 7 8 \n",
            "1 2 3 4 5 6 7 8 9 \n",
            "1 2 3 4 5 6 7 8 9 10 \n",
            "1 2 3 4 5 6 7 8 9 10 11 \n",
            "1 2 3 4 5 6 7 8 9 10 11 12 \n",
            "1 2 3 4 5 6 7 8 9 10 11 12 13 \n",
            "1 2 3 4 5 6 7 8 9 10 11 12 13 14 \n",
            "1 2 3 4 5 6 7 8 9 10 11 12 13 14 15 \n",
            "1 2 3 4 5 6 7 8 9 10 11 12 13 14 15 16 \n",
            "1 2 3 4 5 6 7 8 9 10 11 12 13 14 15 16 17 \n",
            "1 2 3 4 5 6 7 8 9 10 11 12 13 14 15 16 17 18 \n",
            "1 2 3 4 5 6 7 8 9 10 11 12 13 14 15 16 17 18 19 \n",
            "1 2 3 4 5 6 7 8 9 10 11 12 13 14 15 16 17 18 19 20 \n",
            "1 2 3 4 5 6 7 8 9 10 11 12 13 14 15 16 17 18 19 20 21 \n",
            "1 2 3 4 5 6 7 8 9 10 11 12 13 14 15 16 17 18 19 20 21 22 \n",
            "1 2 3 4 5 6 7 8 9 10 11 12 13 14 15 16 17 18 19 20 21 22 23 \n",
            "1 2 3 4 5 6 7 8 9 10 11 12 13 14 15 16 17 18 19 20 21 22 23 24 \n",
            "1 2 3 4 5 6 7 8 9 10 11 12 13 14 15 16 17 18 19 20 21 22 23 24 25 \n",
            "1 2 3 4 5 6 7 8 9 10 11 12 13 14 15 16 17 18 19 20 21 22 23 24 25 26 \n",
            "1 2 3 4 5 6 7 8 9 10 11 12 13 14 15 16 17 18 19 20 21 22 23 24 25 26 27 \n",
            "1 2 3 4 5 6 7 8 9 10 11 12 13 14 15 16 17 18 19 20 21 22 23 24 25 26 27 28 \n",
            "1 2 3 4 5 6 7 8 9 10 11 12 13 14 15 16 17 18 19 20 21 22 23 24 25 26 27 28 29 \n",
            "1 2 3 4 5 6 7 8 9 10 11 12 13 14 15 16 17 18 19 20 21 22 23 24 25 26 27 28 29 30 \n"
          ]
        }
      ]
    },
    {
      "cell_type": "code",
      "source": [
        "aaa = input()\n",
        "if aaa.isdecimal():\n",
        "  if aaa in range(1,31):\n",
        "    for i in range(1, aaa+1):\n",
        "      for j in range(1, i+1):\n",
        "        print(j,end=' ')\n",
        "      print()\n",
        "  else:\n",
        "    print(\"너무 많습니다\")\n",
        "else:\n",
        "  print(\"정수로 입력하세요\")\n"
      ],
      "metadata": {
        "colab": {
          "base_uri": "https://localhost:8080/"
        },
        "id": "aYzP_Z19r3M1",
        "outputId": "5dd94cf5-7139-4320-b1e4-900e350a377a"
      },
      "execution_count": null,
      "outputs": [
        {
          "output_type": "stream",
          "name": "stdout",
          "text": [
            "10.2\n",
            "정수로 입력하세요\n"
          ]
        }
      ]
    }
  ]
}